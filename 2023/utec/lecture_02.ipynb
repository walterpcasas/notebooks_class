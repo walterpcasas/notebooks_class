{
  "nbformat": 4,
  "nbformat_minor": 0,
  "metadata": {
    "colab": {
      "provenance": [],
      "gpuType": "T4"
    },
    "kernelspec": {
      "name": "python3",
      "display_name": "Python 3"
    },
    "language_info": {
      "name": "python"
    },
    "accelerator": "GPU"
  },
  "cells": [
    {
      "cell_type": "code",
      "execution_count": null,
      "metadata": {
        "id": "920ToNiu2cj0"
      },
      "outputs": [],
      "source": [
        "import matplotlib.pyplot as plt\n",
        "\n",
        "import tensorflow as tf\n",
        "from tensorflow import keras\n",
        "from tensorflow.keras.datasets import imdb\n",
        "from tensorflow.keras.preprocessing import sequence"
      ]
    },
    {
      "cell_type": "code",
      "source": [
        "max_features = 5000\n",
        "maxlen = 300"
      ],
      "metadata": {
        "id": "Q46ndt3Q21PP"
      },
      "execution_count": null,
      "outputs": []
    },
    {
      "cell_type": "code",
      "source": [
        "(x_train, y_train), (x_test, y_test) = imdb.load_data(num_words=max_features)"
      ],
      "metadata": {
        "id": "dJfoD8-sMZ_8"
      },
      "execution_count": null,
      "outputs": []
    },
    {
      "cell_type": "code",
      "source": [
        "element = 50\n",
        "print(\"Primer ejemplo de entrenamiento:\\n\", x_train[element])\n",
        "print(\"\\nEtiqueta del primer ejemplo:\\n\", y_train[element])"
      ],
      "metadata": {
        "colab": {
          "base_uri": "https://localhost:8080/"
        },
        "id": "FCOZ6D11Mc98",
        "outputId": "c48ee8df-5363-4b70-861a-24be10d22f66"
      },
      "execution_count": null,
      "outputs": [
        {
          "output_type": "stream",
          "name": "stdout",
          "text": [
            "Primer ejemplo de entrenamiento:\n",
            " [1, 13, 165, 219, 14, 20, 33, 6, 750, 17, 515, 17, 13, 2675, 4, 2, 61, 278, 59, 301, 107, 715, 13, 69, 115, 557, 33, 6, 750, 159, 42, 237, 57, 2, 17, 515, 17, 13, 557, 148, 715, 13, 144, 28, 43, 2, 2, 2, 8, 61, 2208, 5, 825, 344, 21, 57, 2, 13, 435, 11, 5, 296, 4, 20, 14, 20, 161, 97, 259, 11, 4, 750, 462, 24, 60, 280, 24, 60, 2, 669, 75, 1829, 50, 11, 2, 3542, 175, 747, 234, 42, 38, 294, 62, 2, 14, 20, 1870, 4, 311, 62, 2, 2, 95, 870, 50, 11, 2, 1100, 3542, 18, 160, 747, 234]\n",
            "\n",
            "Etiqueta del primer ejemplo:\n",
            " 0\n"
          ]
        }
      ]
    },
    {
      "cell_type": "code",
      "source": [
        "len( x_train[element])"
      ],
      "metadata": {
        "colab": {
          "base_uri": "https://localhost:8080/"
        },
        "id": "W4Ez8PmqShui",
        "outputId": "b1d33085-1ee9-467e-fab6-47b66f50ab8e"
      },
      "execution_count": null,
      "outputs": [
        {
          "output_type": "execute_result",
          "data": {
            "text/plain": [
              "113"
            ]
          },
          "metadata": {},
          "execution_count": 25
        }
      ]
    },
    {
      "cell_type": "code",
      "source": [
        "INDEX_FROM = 3\n",
        "word_to_id = tf.keras.datasets.imdb.get_word_index()\n",
        "word_to_id = {k:(v+INDEX_FROM) for k,v in word_to_id.items()}\n",
        "word_to_id[\"<PAD>\"] = 0\n",
        "word_to_id[\"<START>\"] = 1\n",
        "word_to_id[\"<UNK>\"] = 2\n",
        "\n",
        "id_to_word = {value:key for key,value in word_to_id.items()}\n",
        "print(' '.join(id_to_word[id] for id in x_train[element] ))"
      ],
      "metadata": {
        "colab": {
          "base_uri": "https://localhost:8080/"
        },
        "id": "Yz3Fq_yVMlNl",
        "outputId": "0ef75e5b-0879-4367-8a23-7d9340b768f8"
      },
      "execution_count": null,
      "outputs": [
        {
          "output_type": "stream",
          "name": "stdout",
          "text": [
            "<START> i actually saw this movie at a theater as soon as i handed the <UNK> my money she said two words i had never heard at a theater before or since no <UNK> as soon as i heard those words i should have just <UNK> <UNK> <UNK> to my cash and gone home but no <UNK> i went in and watched the movie this movie didn't make anyone in the theater laugh not even once not even <UNK> mostly we sat there in <UNK> silence every ten minutes or so someone would <UNK> this movie sucks the audience would <UNK> <UNK> then sit there in <UNK> bored silence for another ten minutes\n"
          ]
        }
      ]
    },
    {
      "cell_type": "code",
      "source": [
        "x_train = sequence.pad_sequences(x_train, maxlen=maxlen)\n",
        "x_test = sequence.pad_sequences(x_test, maxlen=maxlen)"
      ],
      "metadata": {
        "id": "5yuyAzep26Xj"
      },
      "execution_count": null,
      "outputs": []
    },
    {
      "cell_type": "code",
      "source": [
        "x_train[2]"
      ],
      "metadata": {
        "colab": {
          "base_uri": "https://localhost:8080/"
        },
        "id": "WmYy2UeVTVVf",
        "outputId": "624c2aaa-a3e5-43f6-9ca5-c7207a1caa3a"
      },
      "execution_count": null,
      "outputs": [
        {
          "output_type": "execute_result",
          "data": {
            "text/plain": [
              "array([   0,    0,    0,    0,    0,    0,    0,    0,    0,    0,    0,\n",
              "          0,    0,    0,    0,    0,    0,    0,    0,    0,    0,    0,\n",
              "          0,    0,    0,    0,    0,    0,    0,    0,    0,    0,    0,\n",
              "          0,    0,    0,    0,    0,    0,    0,    0,    0,    0,    0,\n",
              "          0,    0,    0,    0,    0,    0,    0,    0,    0,    0,    0,\n",
              "          0,    0,    0,    0,    0,    0,    0,    0,    0,    0,    0,\n",
              "          0,    0,    0,    0,    0,    0,    0,    0,    0,    0,    0,\n",
              "          0,    0,    0,    0,    0,    0,    0,    0,    0,    0,    0,\n",
              "          0,    0,    0,    0,    0,    0,    0,    0,    0,    0,    0,\n",
              "          0,    0,    0,    0,    0,    0,    0,    0,    0,    0,    0,\n",
              "          0,    0,    0,    0,    0,    0,    0,    0,    0,    0,    0,\n",
              "          0,    0,    0,    0,    0,    0,    0,    0,    0,    0,    0,\n",
              "          0,    0,    0,    0,    0,    0,    0,    0,    0,    0,    0,\n",
              "          0,    0,    0,    0,    0,    0,    0,    0,    0,    0,    0,\n",
              "          0,    0,    0,    0,    0,    1,   14,   47,    8,   30,   31,\n",
              "          7,    4,  249,  108,    7,    4,    2,   54,   61,  369,   13,\n",
              "         71,  149,   14,   22,  112,    4, 2401,  311,   12,   16, 3711,\n",
              "         33,   75,   43, 1829,  296,    4,   86,  320,   35,  534,   19,\n",
              "        263, 4821, 1301,    4, 1873,   33,   89,   78,   12,   66,   16,\n",
              "          4,  360,    7,    4,   58,  316,  334,   11,    4, 1716,   43,\n",
              "        645,  662,    8,  257,   85, 1200,   42, 1228, 2578,   83,   68,\n",
              "       3912,   15,   36,  165, 1539,  278,   36,   69,    2,  780,    8,\n",
              "        106,   14,    2, 1338,   18,    6,   22,   12,  215,   28,  610,\n",
              "         40,    6,   87,  326,   23, 2300,   21,   23,   22,   12,  272,\n",
              "         40,   57,   31,   11,    4,   22,   47,    6, 2307,   51,    9,\n",
              "        170,   23,  595,  116,  595, 1352,   13,  191,   79,  638,   89,\n",
              "          2,   14,    9,    8,  106,  607,  624,   35,  534,    6,  227,\n",
              "          7,  129,  113], dtype=int32)"
            ]
          },
          "metadata": {},
          "execution_count": 29
        }
      ]
    },
    {
      "cell_type": "code",
      "source": [
        "len(x_train[2])"
      ],
      "metadata": {
        "colab": {
          "base_uri": "https://localhost:8080/"
        },
        "id": "V7vVJpU5ThVf",
        "outputId": "774366c3-466d-4d3e-ac87-a7a94ac6f890"
      },
      "execution_count": null,
      "outputs": [
        {
          "output_type": "execute_result",
          "data": {
            "text/plain": [
              "300"
            ]
          },
          "metadata": {},
          "execution_count": 30
        }
      ]
    },
    {
      "cell_type": "code",
      "source": [
        "model = keras.Sequential()\n",
        "model.add(keras.layers.Embedding(max_features, 32))\n",
        "model.add(keras.layers.SimpleRNN(units=32))\n",
        "model.add(keras.layers.Dense(units=1, activation='sigmoid'))"
      ],
      "metadata": {
        "id": "GhGAMV2V29zp"
      },
      "execution_count": null,
      "outputs": []
    },
    {
      "cell_type": "code",
      "source": [
        "%%time\n",
        "model.compile(optimizer='adam', loss='binary_crossentropy', metrics=['accuracy'])\n",
        "history = model.fit(x_train, y_train, epochs=5, batch_size=64, validation_data=(x_test, y_test))"
      ],
      "metadata": {
        "colab": {
          "base_uri": "https://localhost:8080/"
        },
        "id": "OndkkzEr3DDX",
        "outputId": "52997efb-e81f-40ed-a1b5-0ee422c0701d"
      },
      "execution_count": null,
      "outputs": [
        {
          "output_type": "stream",
          "name": "stdout",
          "text": [
            "Epoch 1/5\n",
            "391/391 [==============================] - 191s 471ms/step - loss: 0.6531 - accuracy: 0.6235 - val_loss: 1.0070 - val_accuracy: 0.5042\n",
            "Epoch 2/5\n",
            "391/391 [==============================] - 142s 363ms/step - loss: 0.6326 - accuracy: 0.6595 - val_loss: 0.6049 - val_accuracy: 0.6584\n",
            "Epoch 3/5\n",
            "391/391 [==============================] - 135s 346ms/step - loss: 0.4698 - accuracy: 0.7786 - val_loss: 0.4501 - val_accuracy: 0.8036\n",
            "Epoch 4/5\n",
            "391/391 [==============================] - 132s 337ms/step - loss: 0.4041 - accuracy: 0.8180 - val_loss: 0.4642 - val_accuracy: 0.8020\n",
            "Epoch 5/5\n",
            "391/391 [==============================] - 130s 333ms/step - loss: 0.2811 - accuracy: 0.8859 - val_loss: 0.4232 - val_accuracy: 0.8050\n"
          ]
        }
      ]
    },
    {
      "cell_type": "code",
      "source": [
        "loss, accuracy = model.evaluate(x_test, y_test)\n",
        "print(\"Test Loss:\", loss)\n",
        "print(\"Test Accuracy:\", accuracy)"
      ],
      "metadata": {
        "colab": {
          "base_uri": "https://localhost:8080/"
        },
        "id": "OibYaZZc3GbQ",
        "outputId": "8558bf36-4b2b-4d59-9ee9-6813ee4f053f"
      },
      "execution_count": null,
      "outputs": [
        {
          "output_type": "stream",
          "name": "stdout",
          "text": [
            "782/782 [==============================] - 21s 27ms/step - loss: 0.4232 - accuracy: 0.8050\n",
            "Test Loss: 0.4232223331928253\n",
            "Test Accuracy: 0.8050000071525574\n"
          ]
        }
      ]
    },
    {
      "cell_type": "code",
      "source": [
        "train_loss = history.history['loss']\n",
        "train_accuracy = history.history['accuracy']"
      ],
      "metadata": {
        "id": "DA5_PJRq3ZoI"
      },
      "execution_count": null,
      "outputs": []
    },
    {
      "cell_type": "code",
      "source": [
        "val_loss = history.history['val_loss']\n",
        "val_accuracy = history.history['val_accuracy']"
      ],
      "metadata": {
        "id": "JSPbsKr63pl4"
      },
      "execution_count": null,
      "outputs": []
    },
    {
      "cell_type": "code",
      "source": [
        "plt.plot(train_loss, label='Train Loss')\n",
        "plt.plot(val_loss, label='Validation Loss')\n",
        "plt.xlabel('Epochs')\n",
        "plt.ylabel('Loss')\n",
        "plt.legend()\n",
        "plt.show()"
      ],
      "metadata": {
        "colab": {
          "base_uri": "https://localhost:8080/",
          "height": 449
        },
        "id": "Me5lrNaH3rkD",
        "outputId": "a1dfba3a-13d8-4853-dcb4-9f7639172173"
      },
      "execution_count": null,
      "outputs": [
        {
          "output_type": "display_data",
          "data": {
            "text/plain": [
              "<Figure size 640x480 with 1 Axes>"
            ],
            "image/png": "[encoded data removed]"
          },
          "metadata": {}
        }
      ]
    },
    {
      "cell_type": "code",
      "source": [
        "plt.plot(train_accuracy, label='Train Accuracy')\n",
        "plt.plot(val_accuracy, label='Validation Accuracy')\n",
        "plt.xlabel('Epochs')\n",
        "plt.ylabel('Accuracy')\n",
        "plt.legend()\n",
        "plt.show()"
      ],
      "metadata": {
        "colab": {
          "base_uri": "https://localhost:8080/",
          "height": 450
        },
        "id": "TnJS7KzA3tLY",
        "outputId": "cba9173e-f85a-4d69-c81d-2b7b0ab1a261"
      },
      "execution_count": null,
      "outputs": [
        {
          "output_type": "display_data",
          "data": {
            "text/plain": [
              "<Figure size 640x480 with 1 Axes>"
            ],
            "image/png": "[encoded data removed]"
          },
          "metadata": {}
        }
      ]
    },
    {
      "cell_type": "markdown",
      "source": [
        "# Save and Load Model"
      ],
      "metadata": {
        "id": "vVMr9W7cN_kE"
      }
    },
    {
      "cell_type": "code",
      "source": [
        "model.save('my_model.h5')"
      ],
      "metadata": {
        "id": "ueIoGZnYN6tE"
      },
      "execution_count": null,
      "outputs": []
    },
    {
      "cell_type": "code",
      "source": [
        "from tensorflow.keras.models import load_model\n",
        "\n",
        "loaded_model = load_model('my_model.h5')"
      ],
      "metadata": {
        "id": "Jjmq8vBaN8oz"
      },
      "execution_count": null,
      "outputs": []
    },
    {
      "cell_type": "code",
      "source": [
        "loss, accuracy = loaded_model.evaluate(x_test, y_test)"
      ],
      "metadata": {
        "colab": {
          "base_uri": "https://localhost:8080/"
        },
        "id": "6qq6pi4FU2fx",
        "outputId": "8fbed7b4-7ef3-4f74-c3a2-b4d48d92a8b9"
      },
      "execution_count": null,
      "outputs": [
        {
          "output_type": "stream",
          "name": "stdout",
          "text": [
            "782/782 [==============================] - 29s 37ms/step - loss: 0.4232 - accuracy: 0.8050\n"
          ]
        }
      ]
    },
    {
      "cell_type": "code",
      "source": [
        "print('Loss:', loss)\n",
        "print('Accuracy:', accuracy)"
      ],
      "metadata": {
        "colab": {
          "base_uri": "https://localhost:8080/"
        },
        "id": "gt09u1FaVBsz",
        "outputId": "029ad255-b429-4c8f-9810-a0cea7f7f92c"
      },
      "execution_count": null,
      "outputs": [
        {
          "output_type": "stream",
          "name": "stdout",
          "text": [
            "Loss: 0.4232223331928253\n",
            "Accuracy: 0.8050000071525574\n"
          ]
        }
      ]
    },
    {
      "cell_type": "markdown",
      "source": [
        "# Embeddings"
      ],
      "metadata": {
        "id": "MZZhfhEpNlH9"
      }
    },
    {
      "cell_type": "code",
      "source": [
        "embeddings = model.layers[0].get_weights()[0]"
      ],
      "metadata": {
        "id": "8TkAjPfvNhYq"
      },
      "execution_count": null,
      "outputs": []
    },
    {
      "cell_type": "code",
      "source": [
        "word = \"good\"\n",
        "word_index = word_to_id[word]"
      ],
      "metadata": {
        "id": "l9hfLEM2NnbQ"
      },
      "execution_count": null,
      "outputs": []
    },
    {
      "cell_type": "code",
      "source": [
        "word_embedding = embeddings[word_index]\n",
        "\n",
        "print(\"Embedding para la palabra 'good':\\n\", word_embedding)"
      ],
      "metadata": {
        "colab": {
          "base_uri": "https://localhost:8080/"
        },
        "id": "zW2aBf7SN18y",
        "outputId": "bbdb3137-ddb2-40cd-a146-7fa613d069ab"
      },
      "execution_count": null,
      "outputs": [
        {
          "output_type": "stream",
          "name": "stdout",
          "text": [
            "Embedding para la palabra 'good':\n",
            " [ 0.1169604  -0.03221298  0.0186439  -0.03642695 -0.01770669 -0.0557798\n",
            "  0.00263729  0.01348831  0.04839774 -0.04072893 -0.01429759  0.00742333\n",
            "  0.07344515  0.01934474  0.03398033 -0.07670914  0.04790408 -0.05095636\n",
            " -0.05815758 -0.06424545 -0.01122505  0.04626911 -0.05796796 -0.10187406\n",
            "  0.00029391 -0.07608778 -0.05380784  0.04988053  0.033471   -0.07049397\n",
            " -0.06805198 -0.03074729]\n"
          ]
        }
      ]
    },
    {
      "cell_type": "code",
      "source": [
        "len(word_embedding)"
      ],
      "metadata": {
        "id": "YzH9SCDuVUyb",
        "outputId": "8122a856-421c-41ad-fe6e-5b6e2e7c84a3",
        "colab": {
          "base_uri": "https://localhost:8080/"
        }
      },
      "execution_count": null,
      "outputs": [
        {
          "output_type": "execute_result",
          "data": {
            "text/plain": [
              "32"
            ]
          },
          "metadata": {},
          "execution_count": 43
        }
      ]
    },
    {
      "cell_type": "code",
      "source": [],
      "metadata": {
        "id": "07hpjddJVXuO"
      },
      "execution_count": null,
      "outputs": []
    }
  ]
}